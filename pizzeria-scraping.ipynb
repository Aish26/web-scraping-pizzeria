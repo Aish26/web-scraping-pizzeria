{
 "cells": [
  {
   "cell_type": "markdown",
   "id": "e121493a",
   "metadata": {},
   "source": [
    "### Introduction\n",
    "\n",
    "This project is aimed at exploring ways to extract information from the internet and store it in database. It extracts information about top 30 pizzerias in San Francisco and stores it in database.\n",
    "\n",
    "### Variables extracted    \n",
    "- Pizzeria\n",
    "    - Name\n",
    "    - URL\n",
    "    - Ratings\n",
    "    - Reviews\n",
    "    - Amenities\n",
    "    - Years in business\n",
    "\n",
    "### Business Outcome:\n",
    "\n",
    "Data scraped from the internet can be a valuable resource for statistical analysis and research purposes. By storing this data in a database, it becomes possible to visualize all relevant information at once, resulting in significant time savings and increased efficiency.\n",
    "\n",
    "The comprehensive data of the top 30 pizzerias in San Francisco stored in the database  can be leveraged for business decision-making based on factors such as location or the range of services offered. The structured format of the stored details facilitates data analysis and enables efficient extraction of meaningful insights.\n",
    "\n",
    "Moreover, the stored data can be used to perform advanced analytics and statistical modeling techniques such as clustering, regression, and predictive modeling. These techniques can identify patterns and relationships within the data and enable accurate predictions and forecasts based on historical trends.\n",
    "\n",
    "Overall, the availability of structured data in a database can be a powerful tool for organizations seeking to make data-driven decisions, as it enables efficient data analysis and the extraction of valuable insights that can be used to inform business strategy and decision-making.\n",
    "\n",
    "### Tools and Technologies Used\n",
    "- Selenium\n",
    "- Beautiful soup\n",
    "- Mongodb\n",
    "\n",
    "\n",
    "\n",
    "\n"
   ]
  },
  {
   "cell_type": "markdown",
   "id": "99c71436",
   "metadata": {},
   "source": [
    "Importing libraries\n"
   ]
  },
  {
   "cell_type": "code",
   "execution_count": 4,
   "id": "aa6ef78b",
   "metadata": {},
   "outputs": [],
   "source": [
    "from bs4 import BeautifulSoup\n",
    "import requests\n",
    "import time\n",
    "import re\n",
    "from selenium import webdriver\n",
    "from selenium.webdriver.common.keys import Keys\n",
    "from selenium.webdriver.common.by import By\n",
    "import os\n",
    "import json\n",
    "import pymongo \n",
    "import re"
   ]
  },
  {
   "cell_type": "markdown",
   "id": "4d5b2c05",
   "metadata": {},
   "source": [
    "\n",
    "### Top 30 pizzeria\n"
   ]
  },
  {
   "cell_type": "markdown",
   "id": "4bf14dfc",
   "metadata": {},
   "source": [
    "Storing the html page with the listing of top 30 pizzeria on disk"
   ]
  },
  {
   "cell_type": "code",
   "execution_count": 1418,
   "id": "19f1fcba",
   "metadata": {},
   "outputs": [],
   "source": [
    "URL = \"https://www.yellowpages.com/search?search_terms=pizzeria&geo_location_terms=San+Francisco%2C+CA\"\n",
    "header={''}\n",
    "page1 = requests.get(URL,headers=header)\n",
    "doc1 = BeautifulSoup(page1.text, 'lxml')\n",
    "saveString(doc1,\"sf_pizzeria_search_page.html\")\n"
   ]
  },
  {
   "cell_type": "markdown",
   "id": "c66c0394",
   "metadata": {},
   "source": [
    "Opening the search result page and loading html in a beautiful soup object\n"
   ]
  },
  {
   "cell_type": "code",
   "execution_count": 13,
   "id": "131eceb5",
   "metadata": {},
   "outputs": [],
   "source": [
    "mylist=[]\n",
    "with open(\"sf_pizzeria_search_page.html\",'r',encoding='utf-8') as a:          \n",
    "    mylist.append(a.read())\n",
    "    soup = BeautifulSoup(mylist[0], 'lxml')"
   ]
  },
  {
   "cell_type": "markdown",
   "id": "0b889bba",
   "metadata": {},
   "source": [
    "Function to get rank number of each search result\n"
   ]
  },
  {
   "cell_type": "code",
   "execution_count": 1420,
   "id": "820616cf",
   "metadata": {},
   "outputs": [],
   "source": [
    "def search_rank(html_object,num):\n",
    "    rank_list=[]\n",
    "    for counter in range(0,num):\n",
    "        y2=html_object.find('div',attrs={\"class\":\"search-results organic\"}).findAll(\"div\",attrs={\"class\":\"info\"})[counter].find(\"h2\",attrs={\"class\":\"n\"}).text\n",
    "        a=re.findall(\"(.*)\\.\", str(y2))\n",
    "        rank_list.append(a[0])\n",
    "    return rank_list\n"
   ]
  },
  {
   "cell_type": "markdown",
   "id": "d00327a3",
   "metadata": {},
   "source": [
    "Function to get name of the shop\n"
   ]
  },
  {
   "cell_type": "code",
   "execution_count": 1421,
   "id": "afb163fc",
   "metadata": {},
   "outputs": [],
   "source": [
    "def name(html_object,num):   \n",
    "    name_list=[]\n",
    "    for counter in range(0,num):\n",
    "        y=html_object.find('div',attrs={\"class\":\"search-results organic\"}).findAll(\"div\",attrs={\"class\":\"info\"})[counter].find(\"h2\",attrs={\"class\":\"n\"}).find('span').text\n",
    "        name_list.append(y)\n",
    "    return name_list\n"
   ]
  },
  {
   "cell_type": "markdown",
   "id": "d29e954d",
   "metadata": {},
   "source": [
    "Function to get list of URLs   \n"
   ]
  },
  {
   "cell_type": "code",
   "execution_count": 1422,
   "id": "ae16d670",
   "metadata": {},
   "outputs": [],
   "source": [
    "def get_url(html_object,num):\n",
    "    list_url=[]\n",
    "\n",
    "    for counter in range(0,num):\n",
    "        list_of_contents=html_object.find('div',attrs={\"class\":\"search-results organic\"}).findAll('div',attrs= {\"class\" : \"info-section info-primary\"})\n",
    "        part2=(list_of_contents[counter].findAll('a')[0].get(\"href\"))\n",
    "        list_url.append(\"https://www.yellowpages.com\"+part2)\n",
    "    return list_url\n"
   ]
  },
  {
   "cell_type": "markdown",
   "id": "49bb96ca",
   "metadata": {},
   "source": [
    "Function to get star ratings if exists\n"
   ]
  },
  {
   "cell_type": "code",
   "execution_count": 1423,
   "id": "8d2be15f",
   "metadata": {},
   "outputs": [],
   "source": [
    "def get_star_ratings(html_object,num):\n",
    "    star_ratings_list=[]\n",
    "\n",
    "    for counter in range(0,num):\n",
    "        try:\n",
    "            y=html_object.find('div',attrs={\"class\":\"search-results organic\"}).findAll(\"div\",attrs={\"class\":\"info\"})[counter].find(\"a\",attrs={\"class\":\"rating hasExtraRating\"}).find(\"div\").get(\"class\")[1]\n",
    "            star_ratings_list.append(y)\n",
    "        except:\n",
    "            star_ratings_list.append(\"NA\")\n",
    "    return star_ratings_list"
   ]
  },
  {
   "cell_type": "markdown",
   "id": "3b20a259",
   "metadata": {},
   "source": [
    "Function to fetch count of star ratings reviews\n"
   ]
  },
  {
   "cell_type": "code",
   "execution_count": 1424,
   "id": "28b9b641",
   "metadata": {},
   "outputs": [],
   "source": [
    "def star_reviews_count(html_object,num):\n",
    "    star_num_reviews=[]\n",
    "    for counter in range(0,num):\n",
    "        try:\n",
    "            y=html_object.find('div',attrs={\"class\":\"search-results organic\"}).findAll(\"div\",attrs={\"class\":\"info\"})[counter].find(\"a\",attrs={\"class\":\"rating hasExtraRating\"}).text\n",
    "            star_num_reviews.append(y)\n",
    "        except:\n",
    "            star_num_reviews.append(\"NA\")\n",
    "    return star_num_reviews"
   ]
  },
  {
   "cell_type": "markdown",
   "id": "cf206b10",
   "metadata": {},
   "source": [
    "Function to get TA ratings and count of ratings  \n"
   ]
  },
  {
   "cell_type": "code",
   "execution_count": 1425,
   "id": "e67b7b29",
   "metadata": {},
   "outputs": [],
   "source": [
    "def ta_ratings(html_object,num):\n",
    "    trip_advisor_ratings=[]\n",
    "    ta_num_reviews=[]\n",
    "    for counter in range(0,num):\n",
    "        y=html_object.find('div',attrs={\"class\":\"search-results organic\"}).findAll(\"div\",attrs={\"class\":\"info\"})[counter].find(\"div\",attrs={\"class\":\"ratings\"}).get('data-tripadvisor')\n",
    "        try:\n",
    "            z=json.loads(y)\n",
    "            for key, value in z.items():   # iter on both keys and values\n",
    "                if key.startswith('rating'):\n",
    "                        trip_advisor_ratings.append(value)\n",
    "                if key.startswith('count'):\n",
    "                        ta_num_reviews.append(value)\n",
    "        except:\n",
    "            trip_advisor_ratings.append(\"NA\")\n",
    "            ta_num_reviews.append(\"NA\")\n",
    "            \n",
    "    return (trip_advisor_ratings,ta_num_reviews)"
   ]
  },
  {
   "cell_type": "markdown",
   "id": "cb381fe5",
   "metadata": {},
   "source": [
    "Function to get price range\n"
   ]
  },
  {
   "cell_type": "code",
   "execution_count": 1426,
   "id": "1d4098a6",
   "metadata": {},
   "outputs": [],
   "source": [
    "def price(html_object,num):\n",
    "    price_range=[]\n",
    "\n",
    "    for counter in range(0,num):\n",
    "        try:\n",
    "            y=html_object.find('div',attrs={\"class\":\"search-results organic\"}).findAll(\"div\",attrs={\"class\":\"info\"})[counter].find(\"div\",attrs={\"class\":\"price-range\"}).text\n",
    "            price_range.append(y)\n",
    "        except:\n",
    "            price_range.append(\"NA\")\n",
    "    return price_range"
   ]
  },
  {
   "cell_type": "markdown",
   "id": "b3af5942",
   "metadata": {},
   "source": [
    "Function to fetch years active business\n"
   ]
  },
  {
   "cell_type": "code",
   "execution_count": 1427,
   "id": "aa11c345",
   "metadata": {},
   "outputs": [],
   "source": [
    "def years_active(html_object,num):\n",
    "    years_business=[]\n",
    "    \n",
    "    for counter in range(0,num):\n",
    "        try:\n",
    "            y=html_object.find('div',attrs={\"class\":\"search-results organic\"}).findAll(\"div\",attrs={\"class\":\"info\"})[counter].find(\"div\",attrs={\"class\":\"number\"}).text\n",
    "            years_business.append(y)\n",
    "        except:\n",
    "                years_business.append(\"NA\")  \n",
    "\n",
    "    return years_business"
   ]
  },
  {
   "cell_type": "markdown",
   "id": "192f1668",
   "metadata": {},
   "source": [
    "Function to fetch customer reviews\n"
   ]
  },
  {
   "cell_type": "code",
   "execution_count": 1428,
   "id": "632c3c86",
   "metadata": {},
   "outputs": [],
   "source": [
    "def cust_reviews(html_object,num):\n",
    "    customer_reviews=[]\n",
    "    \n",
    "    for counter in range(0,num):\n",
    "        try:\n",
    "            y=html_object.find('div',attrs={\"class\":\"search-results organic\"}).findAll(\"div\",attrs={\"class\":\"info\"})[counter].find(\"p\",attrs={\"class\":\"body with-avatar\"}).text\n",
    "            customer_reviews.append(y)\n",
    "        except:\n",
    "            customer_reviews.append(\"NA\")\n",
    "    return customer_reviews"
   ]
  },
  {
   "cell_type": "markdown",
   "id": "ac3908db",
   "metadata": {},
   "source": [
    "Function to get amenities from each span \n"
   ]
  },
  {
   "cell_type": "code",
   "execution_count": 1429,
   "id": "ef1c77f3",
   "metadata": {},
   "outputs": [],
   "source": [
    "def get_amenities(html_object,num):\n",
    "    amenities=[]\n",
    "    \n",
    "    for counter in range(0,num):\n",
    "        try:    \n",
    "            y=html_object.find('div',attrs={\"class\":\"search-results organic\"}).findAll(\"div\",attrs={\"class\":\"info\"})[counter].find(\"div\",attrs={\"class\":\"amenities-info\"}).findAll(\"span\")\n",
    "            int_list=[]\n",
    "            for tag in y:\n",
    "                int_list.append(tag.text)\n",
    "                \n",
    "            amenities.append(int_list)\n",
    "        except:\n",
    "            amenities.append(\"NA\")\n",
    "    return amenities\n",
    "\n"
   ]
  },
  {
   "cell_type": "markdown",
   "id": "9f059508",
   "metadata": {},
   "source": [
    "Call specific functions to get shop information\n"
   ]
  },
  {
   "cell_type": "code",
   "execution_count": 1430,
   "id": "67d26ad1",
   "metadata": {},
   "outputs": [],
   "source": [
    "#Get rank number of search result\n",
    "rank_list=[]\n",
    "rank_list=search_rank(soup,30)\n",
    "\n",
    "#Get name of the shop\n",
    "name_list=[]\n",
    "name_list=name(soup,30)\n",
    "\n",
    "#Get list of URLs \n",
    "list_url=[]\n",
    "list_url=get_url(soup,30)\n",
    "\n",
    "#Get star ratings if exists\n",
    "star_ratings_list=[]\n",
    "star_ratings_list=get_star_ratings(soup,30)\n",
    "\n",
    "#Count of star ratings reviews\n",
    "star_num_reviews=[]\n",
    "star_num_reviews=star_reviews_count(soup,30)\n",
    "\n",
    "#TA ratings and count of ratings  \n",
    "trip_advisor_ratings=[]\n",
    "ta_num_reviews=[]\n",
    "(trip_advisor_ratings,ta_num_reviews)=ta_ratings(soup,30)\n",
    "\n",
    "#Price range of the store in dollar signs\n",
    "price_range=[]\n",
    "price_range=price(soup,30)\n",
    "\n",
    "#Get years active business\n",
    "years_business=[]\n",
    "years_business=years_active(soup,30)\n",
    "\n",
    "#Customer reviews\n",
    "customer_reviews=[]\n",
    "customer_reviews= cust_reviews(soup,30)\n",
    "\n",
    "#Get amenities from each span \n",
    "amenities=[]\n",
    "amenities=get_amenities(soup,30)\n"
   ]
  },
  {
   "cell_type": "markdown",
   "id": "50e6b727",
   "metadata": {},
   "source": [
    "Loading mongodb client\n"
   ]
  },
  {
   "cell_type": "code",
   "execution_count": 1152,
   "id": "6ffc0e5e",
   "metadata": {},
   "outputs": [],
   "source": [
    "client=pymongo.MongoClient()"
   ]
  },
  {
   "cell_type": "markdown",
   "id": "fe46d234",
   "metadata": {},
   "source": [
    "Creating a new mongodb collection\n"
   ]
  },
  {
   "cell_type": "code",
   "execution_count": null,
   "id": "28964263",
   "metadata": {},
   "outputs": [],
   "source": [
    "db=client.get_database(\"Pizzeria\")\n",
    "\n",
    "#Checking if the name of the database exists in mongodb instance\n",
    "print(client.list_database_names())"
   ]
  },
  {
   "cell_type": "markdown",
   "id": "c422ebfb",
   "metadata": {},
   "source": [
    "Creating the collection\n"
   ]
  },
  {
   "cell_type": "code",
   "execution_count": 1154,
   "id": "b38d96ac",
   "metadata": {},
   "outputs": [],
   "source": [
    "store_collection=db.create_collection(\"sf_pizzerias\")\n",
    "store_collection=db.get_collection(\"sf_pizzerias\")"
   ]
  },
  {
   "cell_type": "markdown",
   "id": "acd6cfc4",
   "metadata": {},
   "source": [
    "Inserting documents in mongodb collection\n"
   ]
  },
  {
   "cell_type": "code",
   "execution_count": 1157,
   "id": "98f40985",
   "metadata": {},
   "outputs": [],
   "source": [
    "\n",
    "for i in range(0,30):\n",
    "    response=store_collection.insert_one(\n",
    "    {\n",
    "        \"Search Rank\": rank_list[i],\n",
    "        \"Name\": name_list[i],\n",
    "        \"Linked url\": list_url[i],\n",
    "        \"Star rating\": star_ratings_list[i] ,\n",
    "        \"Number of reviews\":star_num_reviews[i] ,\n",
    "        \"TripAdvisor rating\": trip_advisor_ratings[i],\n",
    "        \"Number of TA reviews\":num_reviews[i] ,\n",
    "        \"Dollar value\": price_range[i],\n",
    "        \"Years in business\": years_business[i],\n",
    "        \"Review\":customer_reviews[i],\n",
    "        \"Amenities\": amenities[i]\n",
    "     })"
   ]
  },
  {
   "cell_type": "markdown",
   "id": "6f52e062",
   "metadata": {},
   "source": [
    "Accessing the URLs stored in mongodb collection\n"
   ]
  },
  {
   "cell_type": "code",
   "execution_count": 1158,
   "id": "b390a905",
   "metadata": {},
   "outputs": [],
   "source": [
    "a=store_collection.find({},{\"Linked url\":1,\"_id\":0})\n",
    "list_url=[]\n",
    "for i in range(0,30):\n",
    "    list_url.append(a[i]['Linked url'])"
   ]
  },
  {
   "cell_type": "markdown",
   "id": "c0de815b",
   "metadata": {},
   "source": [
    "Saving html of each page url to disk\n"
   ]
  },
  {
   "cell_type": "code",
   "execution_count": 1159,
   "id": "81c0cd6c",
   "metadata": {},
   "outputs": [],
   "source": [
    "for a in range(0,30):\n",
    "    page1 = requests.get(list_url[a],headers=header)\n",
    "    doc1 = BeautifulSoup(page1.text, 'lxml')\n",
    "    saveString(doc1,\"sf_pizzeria_\"+str(rank_list[a])+\".html\")\n",
    "    "
   ]
  },
  {
   "cell_type": "markdown",
   "id": "295a5ee9",
   "metadata": {},
   "source": [
    "Read the 30 downloaded shop pages\n",
    "Open each of the search result page and load html in a beautiful soup object\n"
   ]
  },
  {
   "cell_type": "code",
   "execution_count": null,
   "id": "c10f2fc9",
   "metadata": {},
   "outputs": [],
   "source": [
    "shop_address=[]\n",
    "shop_phone=[]\n",
    "shop_website=[]\n",
    "for i in range(1,31):\n",
    "    mylist=[]\n",
    "    name=\"sf_pizzeria_\"+str(i) +\".html\"\n",
    "    with open(name,'r',encoding='utf-8') as a:          \n",
    "        mylist.append(a.read())\n",
    "        soup = BeautifulSoup(mylist[0], 'lxml')\n",
    "        \n",
    "        #Find address of the store\n",
    "        z=soup.find(\"span\",attrs={\"class\":\"address\"})\n",
    "        shop_address.append(z.contents[0].text+\", \"+z.contents[1].text)\n",
    "        \n",
    "        #Get phone number of the store\n",
    "        q=soup.find(\"a\",attrs={\"class\":\"phone dockable\"})\n",
    "        shop_phone.append(q.text)\n",
    "        \n",
    "        #Get website address of the store\n",
    "        try:\n",
    "            s=soup.find(\"a\",attrs={\"class\":\"website-link dockable\"})\n",
    "            shop_website.append(s.get(\"href\"))\n",
    "        except:\n",
    "            shop_website.append(\"NA\")\n",
    "          "
   ]
  },
  {
   "cell_type": "markdown",
   "id": "314c398c",
   "metadata": {},
   "source": [
    "Positionstack- \n",
    "Access position stack with access key to store latitude and longitude for all stores address\n"
   ]
  },
  {
   "cell_type": "code",
   "execution_count": 1162,
   "id": "c0b29cac",
   "metadata": {},
   "outputs": [],
   "source": [
    "shop_latitude=[]\n",
    "shop_longitude=[]\n",
    "url = \"http://api.positionstack.com/v1/forward\";\n",
    "header={''}\n",
    "\n",
    "for i in range(0,30):\n",
    "    page = requests.get(url,headers=header,params={\n",
    "        'access_key': '',\n",
    "        'query': shop_address[i],\n",
    "        'region': 'United States',\n",
    "        'limit': 1,\n",
    "        })\n",
    "\n",
    "    doc = BeautifulSoup(page.content, 'html.parser')\n",
    "    json_dict = json.loads(str(doc))\n",
    "    \n",
    "    try:\n",
    "        shop_longitude.append(json_dict['data'][0]['longitude'])\n",
    "    except:\n",
    "        shop_longitude.append('NA')\n",
    "    try:\n",
    "        shop_latitude.append(json_dict['data'][0]['latitude'])\n",
    "    except:\n",
    "        shop_latitude.append('NA')\n"
   ]
  },
  {
   "cell_type": "markdown",
   "id": "48562d93",
   "metadata": {},
   "source": [
    "Update shop's address, phone number, website and geolocation to the existing mongodb collection\n"
   ]
  },
  {
   "cell_type": "code",
   "execution_count": 1163,
   "id": "3ca83743",
   "metadata": {},
   "outputs": [],
   "source": [
    "for i in range(0,30):\n",
    "\n",
    "    #Address\n",
    "    store_collection.update_one({'Search Rank' : str(i+1)}, { \"$set\": { \"Address\": shop_address[i]} })\n",
    "\n",
    "    #Phone\n",
    "    store_collection.update_one({'Search Rank' : str(i+1)}, { \"$set\": { \"PhoneNum\": shop_phone[i]} })\n",
    "\n",
    "    #Website\n",
    "    store_collection.update_one({'Search Rank' : str(i+1)}, { \"$set\": { \"Website\": shop_website[i]} })\n",
    "    \n",
    "    #Geolocation\n",
    "    a=str(shop_longitude[i])+\", \"+str(shop_latitude[i])\n",
    "    newvalue={ \"$set\": { \"Geolocation\": a} }\n",
    "    store_collection.update_one({'Search Rank' : str(i+1)}, newvalue)\n",
    "\n"
   ]
  }
 ],
 "metadata": {
  "kernelspec": {
   "display_name": "Python 3 (ipykernel)",
   "language": "python",
   "name": "python3"
  },
  "language_info": {
   "codemirror_mode": {
    "name": "ipython",
    "version": 3
   },
   "file_extension": ".py",
   "mimetype": "text/x-python",
   "name": "python",
   "nbconvert_exporter": "python",
   "pygments_lexer": "ipython3",
   "version": "3.9.12"
  }
 },
 "nbformat": 4,
 "nbformat_minor": 5
}
